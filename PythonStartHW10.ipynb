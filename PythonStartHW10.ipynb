{
  "nbformat": 4,
  "nbformat_minor": 0,
  "metadata": {
    "colab": {
      "provenance": []
    },
    "kernelspec": {
      "name": "python3",
      "display_name": "Python 3"
    },
    "language_info": {
      "name": "python"
    }
  },
  "cells": [
    {
      "cell_type": "markdown",
      "source": [
        "# Задача 44\n",
        "\n",
        "В ячейке ниже представлен код генерирующий DataFrame, которая состоит всего\n",
        "из 1 столбца. Ваша задача перевести его в one hot вид. Сможете ли вы это сделать без\n",
        "get_dummies?\n",
        "\n",
        "import random\n",
        "\n",
        "lst = ['robot'] * 10\n",
        "\n",
        "lst += ['human'] * 10\n",
        "\n",
        "random.shuffle(lst)\n",
        "\n",
        "data = pd.DataFrame({'whoAmI':lst})\n",
        "\n",
        "data.head()\n"
      ],
      "metadata": {
        "id": "XIh-2B2QYG32"
      }
    },
    {
      "cell_type": "code",
      "execution_count": 1,
      "metadata": {
        "colab": {
          "base_uri": "https://localhost:8080/"
        },
        "id": "KSLMx4VtXodp",
        "outputId": "ebefc8f9-94b4-4b81-f950-b692e74179d6"
      },
      "outputs": [
        {
          "output_type": "stream",
          "name": "stdout",
          "text": [
            "  whoAmI  human  robot\n",
            "0  robot      0      1\n",
            "1  human      1      0\n",
            "2  robot      0      1\n",
            "3  human      1      0\n",
            "4  robot      0      1\n"
          ]
        }
      ],
      "source": [
        "import pandas as pd\n",
        "import random\n",
        "\n",
        "lst = ['robot'] * 10 + ['human'] * 10\n",
        "random.shuffle(lst)\n",
        "data = pd.DataFrame({'whoAmI': lst})\n",
        "categories = set(lst)\n",
        "one_hot_encoding = pd.DataFrame({category: [1 if val == category else 0 for val in lst] for category in categories})\n",
        "data_one_hot = pd.concat([data, one_hot_encoding], axis=1)\n",
        "print(data_one_hot.head())"
      ]
    },
    {
      "cell_type": "markdown",
      "source": [],
      "metadata": {
        "id": "GzanwiaUYPw1"
      }
    }
  ]
}